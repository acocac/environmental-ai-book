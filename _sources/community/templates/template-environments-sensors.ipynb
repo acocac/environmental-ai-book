{
 "cells": [
  {
   "cell_type": "markdown",
   "metadata": {},
   "source": [
    "# [Sensor name]\n",
    "\n",
    ":::{eval-rst}\n",
    ":opticon:`tag`\n",
    ":badge:`[Environment],badge-primary`\n",
    ":badge:`Sensors,badge-secondary`\n",
    ":::\n",
    "\n",
    "## Context\n",
    "### Purpose\n",
    "*Describe the purpose of the use case.*\n",
    "\n",
    "### Sensor description\n",
    "*Describe the main features of the sensor e.g. variables.*\n",
    "\n",
    "### Highlights\n",
    "*Provide 3-5 bullet points that convey the use case’s core procedures. Each bullet point must have a maximum of 85 characters, including spaces.*\n",
    "* Highlight 1\n",
    "* Highlight 2\n",
    "\n",
    "### Contributions\n",
    "\n",
    "#### Notebook\n",
    "Author (role), Affiliation, GitHub alias\n",
    "\n",
    "#### Dataset originator/creator\n",
    "Institution/Community/Individual (affiliation)\n",
    "\n",
    "#### Dataset authors\n",
    "Institution/Community/Individual (affiliation)\n",
    "\n",
    "#### Dataset documentation\n",
    "```{bibliography}\n",
    "  :style: plain\n",
    "  :list: bullet\n",
    "  :filter: topic % \"replace by the `topic` entry linked to the publication(s) in the `_bibliography/references.bib` file\"\n",
    "```\n",
    "\n",
    ":::{note}\n",
    "*Optional: add credits or acknowledgements to data providers or authors of code snippets*\n",
    ":::"
   ]
  },
  {
   "cell_type": "markdown",
   "metadata": {
    "pycharm": {
     "name": "#%% md\n"
    }
   },
   "source": [
    "## Install and load libraries"
   ]
  },
  {
   "cell_type": "markdown",
   "metadata": {
    "pycharm": {
     "name": "#%% md\n"
    }
   },
   "source": [
    "## Load data"
   ]
  },
  {
   "cell_type": "markdown",
   "source": [
    "## Visualisation"
   ],
   "metadata": {
    "collapsed": false,
    "pycharm": {
     "name": "#%% md\n"
    }
   }
  },
  {
   "cell_type": "markdown",
   "source": [
    "## Summary"
   ],
   "metadata": {
    "collapsed": false
   }
  },
  {
   "cell_type": "markdown",
   "source": [
    "## Version\n",
    "- Notebook:\n",
    "- Dataset:"
   ],
   "metadata": {
    "collapsed": false
   }
  }
 ],
 "metadata": {
  "kernelspec": {
   "display_name": "Python 3",
   "language": "python",
   "name": "python3"
  },
  "language_info": {
   "codemirror_mode": {
    "name": "ipython",
    "version": 3
   },
   "file_extension": ".py",
   "mimetype": "text/x-python",
   "name": "python",
   "nbconvert_exporter": "python",
   "pygments_lexer": "ipython3",
   "version": "3.8.10"
  },
  "widgets": {
   "application/vnd.jupyter.widget-state+json": {
    "state": {},
    "version_major": 2,
    "version_minor": 0
   }
  }
 },
 "nbformat": 4,
 "nbformat_minor": 4
}